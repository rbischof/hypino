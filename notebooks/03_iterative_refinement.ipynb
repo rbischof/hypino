{
 "cells": [
  {
   "cell_type": "markdown",
   "id": "886fc1ac",
   "metadata": {},
   "source": [
    "# Residual-Based Iterative Refinement\n",
    "\n",
    "This notebook demonstrates **how to perform residual-based iterative refinement using the [HyPINO multi-physics neural operator](https://arxiv.org/abs/2509.05117)**.\n",
    "\n",
    "HyPINO maps a given PDE specification, defined by its coefficients, source term, and boundary conditions, to a **Physics-Informed Neural Network (PINN)** that represents the PDE solution. The resulting PINN can be evaluated continuously over the domain and differentiated analytically to compute **physics residuals**.\n",
    "\n",
    "### Why Iterative Refinement?\n",
    "\n",
    "HyPINO generates weights for a fixed, relatively small target PINN architecture. To increase the representational power **without retraining or expanding the architecture**, we can build an **ensemble** of PINNs by calling HyPINO multiple times.\n",
    "\n",
    "But instead of naively sampling multiple networks, we use the **residuals** of the current prediction to guide each new network in correcting the errors of the previous one. This **iterative refinement** strategy reduced the prediction error by more than **100×** on some benchmarks, using just 3–10 refinement steps.\n",
    "\n",
    "### Procedure\n",
    "\n",
    "1. Generate an initial prediction $u^{(0)}$ using HyPINO.  \n",
    "2. Compute residuals of the governing PDE and boundary conditions.  \n",
    "3. Feed the residuals back into HyPINO to obtain a corrective network $\\delta u^{(t)}$.  \n",
    "4. Update the solution as $u^{(t+1)} = u^{(t)} + \\delta u^{(t)}$. \n",
    "\n",
    "Repeating this process yields an ensemble of corrective PINNs whose cumulative output progressively reduces the residual error **without retraining** or backpropagation through the hypernetwork."
   ]
  },
  {
   "cell_type": "code",
   "execution_count": null,
   "id": "42de9f06",
   "metadata": {},
   "outputs": [],
   "source": [
    "import sys, os\n",
    "\n",
    "project_root = os.path.abspath(\"..\")\n",
    "sys.path.append(project_root)"
   ]
  },
  {
   "cell_type": "code",
   "execution_count": null,
   "id": "c551391e",
   "metadata": {},
   "outputs": [],
   "source": [
    "import os\n",
    "import torch\n",
    "import numpy as np\n",
    "\n",
    "from src.models import HyPINO\n",
    "from src.data.utils import to_tensor\n",
    "from src.data.utils import plot_grids, encode_pde_str"
   ]
  },
  {
   "cell_type": "code",
   "execution_count": null,
   "id": "09fa4ab1",
   "metadata": {},
   "outputs": [],
   "source": [
    "if torch.cuda.is_available():\n",
    "    device = f'cuda:{torch.cuda.current_device()}'\n",
    "else:\n",
    "    device = 'cpu'"
   ]
  },
  {
   "cell_type": "code",
   "execution_count": null,
   "id": "86a60dca",
   "metadata": {},
   "outputs": [],
   "source": [
    "model = HyPINO.load_from_safetensors('../models/hypino.safetensors').to(device).eval()"
   ]
  },
  {
   "cell_type": "markdown",
   "id": "5c5dda33",
   "metadata": {},
   "source": [
    "## Example with Helmholtz equation\n",
    "Load example data for the Helmholtz benchmark PDE used in the paper. See the `02_inference.ipynb` notebook for explanation on the input types for HyPINO.\n",
    "\n",
    "Note that this example does not have Neumann boundary conditions."
   ]
  },
  {
   "cell_type": "code",
   "execution_count": null,
   "id": "0d6cb43a",
   "metadata": {},
   "outputs": [],
   "source": [
    "inputs_path = '../assets/helmholtz/arrays'\n",
    "\n",
    "# inputs\n",
    "dirichlet_mask = np.load(os.path.join(inputs_path, 'dirichlet_mask.npy'))\n",
    "dirichlet_conditions = np.load(os.path.join(inputs_path, 'dirichlet_conditions.npy'))\n",
    "source_function = np.load(os.path.join(inputs_path, 'source_function.npy'))\n",
    "\n",
    "# if available, load reference solution\n",
    "reference_solution = np.load(os.path.join(inputs_path, 'reference_solution.npy'))\n",
    "\n",
    "plot_grids([dirichlet_mask, dirichlet_conditions, source_function, reference_solution], \n",
    "           titles=['Dirichlet mask', 'Dirichlet boundary cond', 'Source function', 'Reference solution'])"
   ]
  },
  {
   "cell_type": "code",
   "execution_count": null,
   "id": "99ffab06",
   "metadata": {},
   "outputs": [],
   "source": [
    "mat_inputs = np.stack([dirichlet_mask, np.zeros_like(dirichlet_mask),\n",
    "                   dirichlet_conditions, np.zeros_like(dirichlet_conditions),\n",
    "                   source_function], axis=0)\n",
    "mat_inputs_tensor = to_tensor(mat_inputs)"
   ]
  },
  {
   "cell_type": "code",
   "execution_count": null,
   "id": "49d86b95",
   "metadata": {},
   "outputs": [],
   "source": [
    "diff_operator = 'uxx + uyy + u'\n",
    "pde_coeffs = encode_pde_str(diff_operator)\n",
    "pde_coeffs_tensor = to_tensor([c for c in pde_coeffs.values()])"
   ]
  },
  {
   "cell_type": "code",
   "execution_count": null,
   "id": "0b516f5a",
   "metadata": {},
   "outputs": [],
   "source": [
    "sample = {\n",
    "    'pde_coeffs': pde_coeffs_tensor.to(device),\n",
    "    'mat_inputs': mat_inputs_tensor.to(device),\n",
    "    'neu_normals': torch.zeros(2, 224, 224, device=device, dtype=mat_inputs_tensor.dtype), # no neumann conditions, fill with zeros\n",
    "    'pde_str': diff_operator,\n",
    "}"
   ]
  },
  {
   "cell_type": "code",
   "execution_count": null,
   "id": "894a8466",
   "metadata": {},
   "outputs": [],
   "source": [
    "ensemble_pinn = model.iterative_refinement(sample, num_iter=10, plot_progress=True)"
   ]
  },
  {
   "cell_type": "markdown",
   "id": "8fc13351",
   "metadata": {},
   "source": [
    "The `iterative_refinement` method returns a PyTorch Module, so you can directly use all PyTorch-specific operations:"
   ]
  },
  {
   "cell_type": "code",
   "execution_count": null,
   "id": "361ca8d9",
   "metadata": {},
   "outputs": [],
   "source": [
    "torch.save(ensemble_pinn, 'helmholtz_ensemble.pth')\n",
    "ensemble_pinn = torch.load('helmholtz_ensemble.pth')"
   ]
  },
  {
   "cell_type": "markdown",
   "id": "374dec72",
   "metadata": {},
   "source": [
    "The `forward` method of `ensemble_pinn` expects a `(N, 2)` tensor of `(x, y)` coordinates, where `N` is the number of collocation points and can be freely chosen."
   ]
  },
  {
   "cell_type": "code",
   "execution_count": null,
   "id": "d55d14ec",
   "metadata": {},
   "outputs": [],
   "source": [
    "# generate a grid of 2D collocation points on the domain [-1, 1]^2\n",
    "x_grid, y_grid = np.meshgrid(\n",
    "    np.linspace(-1,  1, 224),\n",
    "    np.linspace( 1, -1, 224),\n",
    ")\n",
    "x = to_tensor(x_grid, requires_grad=True).reshape(-1, 1).to(device)\n",
    "y = to_tensor(y_grid, requires_grad=True).reshape(-1, 1).to(device)\n",
    "xy = torch.cat([x, y], dim=-1)\n",
    "\n",
    "# predict PDE solutions at collocation points\n",
    "u_pred = ensemble_pinn(xy.unsqueeze(0))[0]\n",
    "u_pred_grid = u_pred.detach().cpu().numpy().reshape(224, 224)\n",
    "\n",
    "# plot against reference solution\n",
    "plot_grids([\n",
    "    u_pred_grid,\n",
    "    reference_solution,\n",
    "    u_pred_grid - reference_solution,\n",
    "    ], titles=['Predicted solution', 'Reference solution', 'Difference'])"
   ]
  },
  {
   "cell_type": "markdown",
   "id": "47e7ebdc",
   "metadata": {},
   "source": [
    "## Example with inner boundaries on Poisson equation\n",
    "Load example data for the Poisson circles benchmark PDE used in the paper. See the `02_inference.ipynb` notebook for explanation on the input types for HyPINO."
   ]
  },
  {
   "cell_type": "code",
   "execution_count": null,
   "id": "7c496672",
   "metadata": {},
   "outputs": [],
   "source": [
    "inputs_path = '../assets/poisson_C/arrays'\n",
    "\n",
    "# inputs\n",
    "dirichlet_mask = np.load(os.path.join(inputs_path, 'dirichlet_mask.npy'))\n",
    "dirichlet_conditions = np.load(os.path.join(inputs_path, 'dirichlet_conditions.npy'))\n",
    "source_function = np.load(os.path.join(inputs_path, 'source_function.npy'))\n",
    "\n",
    "# domain mask for computing residual\n",
    "domain_mask = np.load(os.path.join(inputs_path, 'domain_mask.npy'))\n",
    "\n",
    "# if available, load reference solution\n",
    "reference_solution = np.load(os.path.join(inputs_path, 'reference_solution.npy'))\n",
    "\n",
    "plot_grids([dirichlet_mask, dirichlet_conditions, source_function, domain_mask, reference_solution], \n",
    "           titles=['Dirichlet mask', 'Dirichlet boundary cond', 'Source function', 'Domain mask', 'Reference solution'])"
   ]
  },
  {
   "cell_type": "code",
   "execution_count": null,
   "id": "44a0fd52",
   "metadata": {},
   "outputs": [],
   "source": [
    "mat_inputs = np.stack([dirichlet_mask, np.zeros_like(dirichlet_mask),\n",
    "                   dirichlet_conditions, np.zeros_like(dirichlet_conditions),\n",
    "                   source_function], axis=0)\n",
    "mat_inputs_tensor = to_tensor(mat_inputs)"
   ]
  },
  {
   "cell_type": "code",
   "execution_count": null,
   "id": "547cd550",
   "metadata": {},
   "outputs": [],
   "source": [
    "diff_operator = '-uxx - uyy'\n",
    "pde_coeffs = encode_pde_str(diff_operator)\n",
    "pde_coeffs_tensor = to_tensor([c for c in pde_coeffs.values()])"
   ]
  },
  {
   "cell_type": "code",
   "execution_count": null,
   "id": "d42d603f",
   "metadata": {},
   "outputs": [],
   "source": [
    "sample = {\n",
    "    'pde_coeffs': pde_coeffs_tensor.to(device),\n",
    "    'mat_inputs': mat_inputs_tensor.to(device),\n",
    "    'neu_normals': torch.zeros(2, 224, 224, device=device, dtype=mat_inputs_tensor.dtype),\n",
    "    'pde_str': diff_operator,\n",
    "    'domain_mask': to_tensor(domain_mask).to(device) # add domain mask to avoid computing residual inside inner boundaries\n",
    "}"
   ]
  },
  {
   "cell_type": "code",
   "execution_count": null,
   "id": "13cbd660",
   "metadata": {},
   "outputs": [],
   "source": [
    "ensemble_pinn = model.iterative_refinement(sample, num_iter=10, plot_progress=True)"
   ]
  },
  {
   "cell_type": "code",
   "execution_count": null,
   "id": "a7047646",
   "metadata": {},
   "outputs": [],
   "source": [
    "torch.save(ensemble_pinn, 'poisson_C_ensemble.pth')"
   ]
  },
  {
   "cell_type": "markdown",
   "id": "c8446f05",
   "metadata": {},
   "source": [
    "## Example with Wave equation\n",
    "Load example data for the wave benchmark PDE used in the paper. See the `02_inference.ipynb` notebook for explanation on the input types for HyPINO."
   ]
  },
  {
   "cell_type": "code",
   "execution_count": null,
   "id": "9fee5f6b",
   "metadata": {},
   "outputs": [],
   "source": [
    "inputs_path = '../assets/wave/arrays'\n",
    "\n",
    "# inputs\n",
    "dirichlet_mask = np.load(os.path.join(inputs_path, 'dirichlet_mask.npy'))\n",
    "dirichlet_conditions = np.load(os.path.join(inputs_path, 'dirichlet_conditions.npy'))\n",
    "neumann_mask = np.load(os.path.join(inputs_path, 'neumann_mask.npy'))\n",
    "neumann_conditions = np.load(os.path.join(inputs_path, 'neumann_conditions.npy'))\n",
    "source_function = np.load(os.path.join(inputs_path, 'source_function.npy'))\n",
    "\n",
    "# if available, load reference solution\n",
    "reference_solution = np.load(os.path.join(inputs_path, 'reference_solution.npy'))\n",
    "\n",
    "# load neumann normals for computing correct boundary losses\n",
    "if os.path.exists(os.path.join(inputs_path, 'neumann_normals.npy')):\n",
    "        neumann_normals = np.load(os.path.join(inputs_path, 'neumann_normals.npy'))\n",
    "else:\n",
    "        neumann_normals = np.zeros((2, 224, 224))\n",
    "\n",
    "plot_grids([dirichlet_mask, dirichlet_conditions, neumann_mask, neumann_conditions, neumann_normals[0], neumann_normals[1], source_function, reference_solution], \n",
    "           titles=['Dirichlet mask', 'Dirichlet boundary cond', 'Neumann mask', \n",
    "                   'Neumann boundary cond', 'Neumann normals x', 'Neumann normals y', \n",
    "                   'Source function', 'Reference solution'])"
   ]
  },
  {
   "cell_type": "code",
   "execution_count": null,
   "id": "c4aff32e",
   "metadata": {},
   "outputs": [],
   "source": [
    "mat_inputs = np.stack([dirichlet_mask, neumann_mask,\n",
    "                   dirichlet_conditions, neumann_conditions,\n",
    "                   source_function], axis=0)\n",
    "mat_inputs_tensor = to_tensor(mat_inputs)"
   ]
  },
  {
   "cell_type": "code",
   "execution_count": null,
   "id": "a36364ae",
   "metadata": {},
   "outputs": [],
   "source": [
    "diff_operator = '0.5 * uyy - 2 * uxx'\n",
    "pde_coeffs = encode_pde_str(diff_operator)\n",
    "pde_coeffs_tensor = to_tensor([c for c in pde_coeffs.values()])"
   ]
  },
  {
   "cell_type": "code",
   "execution_count": null,
   "id": "622a2e51",
   "metadata": {},
   "outputs": [],
   "source": [
    "sample = {\n",
    "    'pde_coeffs': pde_coeffs_tensor.to(device),\n",
    "    'mat_inputs': mat_inputs_tensor.to(device),\n",
    "    'neu_normals': to_tensor(neumann_normals).to(device),\n",
    "    'pde_str': diff_operator,\n",
    "}"
   ]
  },
  {
   "cell_type": "code",
   "execution_count": null,
   "id": "3edbd48d",
   "metadata": {},
   "outputs": [],
   "source": [
    "pinn_ensemble = model.iterative_refinement(sample, num_iter=10, plot_progress=True)"
   ]
  },
  {
   "cell_type": "code",
   "execution_count": null,
   "id": "8d30b4f3",
   "metadata": {},
   "outputs": [],
   "source": [
    "torch.save(ensemble_pinn, 'wave_ensemble.pth')"
   ]
  },
  {
   "cell_type": "markdown",
   "id": "74ef4589",
   "metadata": {},
   "source": [
    "### Experiment with different ensemble weightings\n",
    "The default setting is that every $\\delta u^{(t)}$ contributes equally to the final solution. We found that this is a hyperparameter that can have an effect on the final performance of the ensemble. Therefore, we provide the `ensemble_weighting` argument, taking a list of floats representing the weight $\\lambda_t$ with which the corresponding $\\delta u^{(t)}$ should be multiplied in the ensemble $u^{(t+1)} = u^{(t)} + \\lambda_t\\delta u^{(t)}$. \n"
   ]
  },
  {
   "cell_type": "code",
   "execution_count": null,
   "id": "e14c432c",
   "metadata": {},
   "outputs": [],
   "source": [
    "pinn_ensemble = model.iterative_refinement(sample, num_iter=10, plot_progress=True, \n",
    "                                           ensemble_weighting=[2., 1.5, 1.5, 1.25, 1.25, 1.1, 1.1, 1, 1, 1])"
   ]
  }
 ],
 "metadata": {
  "kernelspec": {
   "display_name": "hypino",
   "language": "python",
   "name": "python3"
  },
  "language_info": {
   "codemirror_mode": {
    "name": "ipython",
    "version": 3
   },
   "file_extension": ".py",
   "mimetype": "text/x-python",
   "name": "python",
   "nbconvert_exporter": "python",
   "pygments_lexer": "ipython3",
   "version": "3.12.1"
  }
 },
 "nbformat": 4,
 "nbformat_minor": 5
}
