{
 "cells": [
  {
   "cell_type": "markdown",
   "id": "ee79c93b",
   "metadata": {},
   "source": [
    "# Visualize Samples\n",
    "\n",
    "This notebook visualizes the different sample types used to train and evaluate **[HyPINO](https://arxiv.org/abs/2509.05117)**."
   ]
  },
  {
   "cell_type": "code",
   "execution_count": null,
   "id": "f997d444",
   "metadata": {},
   "outputs": [],
   "source": [
    "import sys, os\n",
    "\n",
    "project_root = os.path.abspath(\"..\")\n",
    "sys.path.append(project_root)\n",
    "\n",
    "from src.data.utils import plot_grids"
   ]
  },
  {
   "cell_type": "markdown",
   "id": "970543cb",
   "metadata": {},
   "source": [
    "## Visualize benchmark PDEs"
   ]
  },
  {
   "cell_type": "code",
   "execution_count": null,
   "id": "0351c6bc",
   "metadata": {},
   "outputs": [],
   "source": [
    "from src.data.datasets import EvalPDEDataset\n",
    "\n",
    "DEFAULT_BENCHMARKS = [\n",
    "    '../eval_data/heat.pkl', '../eval_data/helmholtz.pkl',\n",
    "    '../eval_data/helmholtz_G.pkl', '../eval_data/poisson_C.pkl',\n",
    "    '../eval_data/poisson_L.pkl', '../eval_data/poisson_G.pkl',\n",
    "    '../eval_data/wave.pkl'\n",
    "]\n",
    "data = EvalPDEDataset(DEFAULT_BENCHMARKS)\n",
    "\n",
    "for i in range(len(DEFAULT_BENCHMARKS)):\n",
    "    grids = [\n",
    "        data[i]['mat_inputs'][0],\n",
    "        data[i]['mat_inputs'][2],\n",
    "        data[i]['mat_inputs'][1],\n",
    "        data[i]['mat_inputs'][3],\n",
    "        data[i]['mat_inputs'][4],\n",
    "        data[i]['u_grid'].reshape(224, 224)\n",
    "    ]\n",
    "    print(DEFAULT_BENCHMARKS[i] + ':', data[i]['pde_str'])\n",
    "    plot_grids(grids, titles=['Dirichlet boundaries', 'Dirichlet boundary conditions', 'Neumann boundaries', \n",
    "                                'Neumann boundary conditions', 'Source function', 'Reference solution'], save_path=f'../assets/{DEFAULT_BENCHMARKS[i].split('/')[2].split('.')[0]}/grids')"
   ]
  },
  {
   "cell_type": "markdown",
   "id": "98b1542f",
   "metadata": {},
   "source": [
    "## Visualize random supervised samples obtained via MMS"
   ]
  },
  {
   "cell_type": "code",
   "execution_count": null,
   "id": "ec28ba6d",
   "metadata": {},
   "outputs": [],
   "source": [
    "from src.data.supervised import SupervisedRandFunDataset\n",
    "data = SupervisedRandFunDataset(1)[0]\n",
    "\n",
    "grids = [\n",
    "    data['mat_inputs'][0],\n",
    "    data['mat_inputs'][2],\n",
    "    data['mat_inputs'][1],\n",
    "    data['mat_inputs'][3],\n",
    "    data['mat_inputs'][4],\n",
    "    data['u_grid'].reshape(224, 224)\n",
    "]\n",
    "print('diff op:', data['pde_str'])\n",
    "plot_grids(grids, titles=['Dirichlet boundaries', 'Dirichlet boundary conditions', 'Neumann boundaries', \n",
    "                            'Neumann boundary conditions', 'Source function', 'Analytical solution'])"
   ]
  },
  {
   "cell_type": "markdown",
   "id": "2ad03495",
   "metadata": {},
   "source": [
    "## Visualize random unsupervised samples without analytical solutions"
   ]
  },
  {
   "cell_type": "code",
   "execution_count": null,
   "id": "73a1f98e",
   "metadata": {},
   "outputs": [],
   "source": [
    "from src.data.unsupervised import UnsupervisedRandFunDataset\n",
    "data = UnsupervisedRandFunDataset(1)[0]\n",
    "\n",
    "grids = [\n",
    "    data['mat_inputs'][0],\n",
    "    data['mat_inputs'][2],\n",
    "    data['mat_inputs'][1],\n",
    "    data['mat_inputs'][3],\n",
    "    data['mat_inputs'][4],\n",
    "]\n",
    "\n",
    "plot_grids(grids, titles=['Dirichlet boundaries', 'Dirichlet boundary conditions', 'Neumann boundaries', \n",
    "                                    'Neumann boundary conditions', 'Source function', 'Analytical solution'])"
   ]
  }
 ],
 "metadata": {
  "kernelspec": {
   "display_name": "hypino",
   "language": "python",
   "name": "python3"
  },
  "language_info": {
   "codemirror_mode": {
    "name": "ipython",
    "version": 3
   },
   "file_extension": ".py",
   "mimetype": "text/x-python",
   "name": "python",
   "nbconvert_exporter": "python",
   "pygments_lexer": "ipython3",
   "version": "3.12.1"
  }
 },
 "nbformat": 4,
 "nbformat_minor": 5
}
