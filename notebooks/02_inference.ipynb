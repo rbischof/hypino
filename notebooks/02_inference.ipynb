{
 "cells": [
  {
   "cell_type": "markdown",
   "id": "f6959562",
   "metadata": {},
   "source": [
    "# Inference\n",
    "\n",
    "This notebook shows **how to run inference with the [HyPINO multi-physics neural operator](https://arxiv.org/abs/2509.05117)**: what inputs it expects, what it returns, and how to use the result in downstream tasks (evaluation, visualization, or refinement).\n",
    "\n",
    "**What HyPINO produces:** Given a PDE specification (PDE coefficients, boundary/initial data, forcing), HyPINO returns a **neural network that represents the solution field**, which enables **continuous evaluation** anywhere in the domain and **analytical derivatives** to compute residuals (via automatic differentiation)."
   ]
  },
  {
   "cell_type": "code",
   "execution_count": null,
   "id": "1f3a0245",
   "metadata": {},
   "outputs": [],
   "source": [
    "import sys, os\n",
    "\n",
    "project_root = os.path.abspath(\"..\")\n",
    "sys.path.append(project_root)"
   ]
  },
  {
   "cell_type": "code",
   "execution_count": null,
   "id": "49fe25b9",
   "metadata": {},
   "outputs": [],
   "source": [
    "import os\n",
    "import torch\n",
    "import numpy as np\n",
    "\n",
    "from src.models import HyPINO\n",
    "from src.data.utils import to_tensor\n",
    "from src.data.utils import plot_grids, encode_pde_str\n",
    "from src.data.utils import ALL_DERIVATIVES, compile_diff_operator, compute_derivatives, plot_grids"
   ]
  },
  {
   "cell_type": "code",
   "execution_count": null,
   "id": "4cb66666",
   "metadata": {},
   "outputs": [],
   "source": [
    "if torch.cuda.is_available():\n",
    "    device = f'cuda:{torch.cuda.current_device()}'\n",
    "else:\n",
    "    device = 'cpu'"
   ]
  },
  {
   "cell_type": "markdown",
   "id": "18498350",
   "metadata": {},
   "source": [
    "## Load Example PDEs\n",
    "\n",
    "HyPINO provides **7 benchmark PDEs** that can be loaded to explore which inputs are required for inference:\n",
    "\n",
    "`heat`, `helmholtz`, `helmholtz_G`, `poisson_C`, `poisson_G`, `poisson_L`, `wave`\n",
    "\n",
    "\n",
    "### Required Inputs\n",
    "\n",
    "HyPINO expects the following **grid-based inputs**:\n",
    "\n",
    "- **Dirichlet boundary mask**  \n",
    "  Binary grid where cells with value `1` indicate Dirichlet boundaries, and `0` otherwise.  \n",
    "  *Tip:* Best performance is achieved when boundary lines are 2–3 pixels wide.\n",
    "\n",
    "- **Neumann boundary mask**  \n",
    "  Binary grid similar to the Dirichlet mask, but indicating Neumann boundaries.\n",
    "\n",
    "- **Dirichlet boundary values**  \n",
    "  Grid of actual dirichlet boundary condition values.  \n",
    "  Will be multiplied by the dirichlet mask, i.e. values outside of boundaries can be set to an arbitrary value (e.g. `0`).\n",
    "\n",
    "- **Neumann boundary values**  \n",
    "  Grid of actual neumann boundary condition values.  \n",
    "  Will be multiplied by the neumann mask, i.e. values outside of boundaries can be set to an arbitrary value (e.g. `0`).\n",
    "\n",
    "- **Source (forcing) function**  \n",
    "  The source or forcing term of the PDE, discretized over the grid.\n"
   ]
  },
  {
   "cell_type": "code",
   "execution_count": null,
   "id": "2828c185",
   "metadata": {},
   "outputs": [],
   "source": [
    "inputs_path = '../assets/helmholtz/arrays' # change path to load different benchmark\n",
    "\n",
    "# inputs\n",
    "dirichlet_mask = np.load(os.path.join(inputs_path, 'dirichlet_mask.npy'))\n",
    "dirichlet_conditions = np.load(os.path.join(inputs_path, 'dirichlet_conditions.npy'))\n",
    "neumann_mask = np.load(os.path.join(inputs_path, 'neumann_mask.npy'))\n",
    "neumann_conditions = np.load(os.path.join(inputs_path, 'neumann_conditions.npy'))\n",
    "source_function = np.load(os.path.join(inputs_path, 'source_function.npy'))\n",
    "\n",
    "# if available, load reference solution\n",
    "reference_solution = np.load(os.path.join(inputs_path, 'reference_solution.npy'))\n",
    "\n",
    "plot_grids([dirichlet_mask, dirichlet_conditions, neumann_mask, neumann_conditions, source_function, reference_solution], \n",
    "           titles=['Dirichlet mask', 'Dirichlet boundary cond', 'Neumann mask', \n",
    "                   'Neumann boundary cond', 'Source function', 'Reference solution'])"
   ]
  },
  {
   "cell_type": "markdown",
   "id": "0b033c3b",
   "metadata": {},
   "source": [
    "All grid-based inputs are stacked into a 5-d tensor in this order: dirichlet mask, neumann mask, dirichlet values, neumann values, source function."
   ]
  },
  {
   "cell_type": "code",
   "execution_count": null,
   "id": "7a43bb14",
   "metadata": {},
   "outputs": [],
   "source": [
    "mat_inputs = to_tensor(np.stack([dirichlet_mask, neumann_mask,\n",
    "                                 dirichlet_conditions * dirichlet_mask, neumann_conditions * neumann_mask,\n",
    "                                 source_function], axis=0)).to(device)"
   ]
  },
  {
   "cell_type": "markdown",
   "id": "5a92f5d8",
   "metadata": {},
   "source": [
    "The PDE coefficients are encoded as vector of coefficients. We provide two methods to convert a string of the operator into a dictionary of coefficients, and then into a tensor."
   ]
  },
  {
   "cell_type": "code",
   "execution_count": null,
   "id": "09e39890",
   "metadata": {},
   "outputs": [],
   "source": [
    "diff_operator = 'uxx + uyy + u'\n",
    "pde_coeffs = encode_pde_str(diff_operator)\n",
    "print('pde coefficients:       ', pde_coeffs)\n",
    "\n",
    "pde_coeffs_tensor = to_tensor([c for c in pde_coeffs.values()]).to(device)\n",
    "print('pde coefficients tensor:', pde_coeffs_tensor)"
   ]
  },
  {
   "cell_type": "markdown",
   "id": "20f20c89",
   "metadata": {},
   "source": [
    "## Load model"
   ]
  },
  {
   "cell_type": "code",
   "execution_count": null,
   "id": "6dca0344",
   "metadata": {},
   "outputs": [],
   "source": [
    "model = HyPINO.load_from_safetensors('../models/hypino.safetensors').to(device).eval()"
   ]
  },
  {
   "cell_type": "markdown",
   "id": "27914db2",
   "metadata": {},
   "source": [
    "## Generate target network"
   ]
  },
  {
   "cell_type": "code",
   "execution_count": null,
   "id": "45d9070d",
   "metadata": {},
   "outputs": [],
   "source": [
    "# call model with pde coeffs and mat_inputs. needs unsqueeze to add the batch dimension, then remove batch dimension with [0]\n",
    "target_pinn = model(pde_coeffs_tensor.unsqueeze(0), mat_inputs.unsqueeze(0))[0]"
   ]
  },
  {
   "cell_type": "markdown",
   "id": "8282f51d",
   "metadata": {},
   "source": [
    "The returned object is a ready-to-use function (a `functools.partial`) for making predictions. It already contains the trained weights and biases, so you only need to provide an `(N, 2)` tensor of `(x, y)` coordinates, where `N` is the number of collocation points.\n",
    "\n",
    "Alternatively, for full control over the model, you can access the weights and biases directly. This is ideal if you plan to write your own optimization routine or need to inspect the model's parameters:"
   ]
  },
  {
   "cell_type": "code",
   "execution_count": null,
   "id": "541f304a",
   "metadata": {},
   "outputs": [],
   "source": [
    "_, weights, biases = model(pde_coeffs_tensor.unsqueeze(0), mat_inputs.unsqueeze(0), return_weights=True)"
   ]
  },
  {
   "cell_type": "markdown",
   "id": "61ad92ae",
   "metadata": {},
   "source": [
    "And then import them into a PyTorch Module, e.g. our `FNN` class:"
   ]
  },
  {
   "cell_type": "code",
   "execution_count": null,
   "id": "c51ec534",
   "metadata": {},
   "outputs": [],
   "source": [
    "from src.models.utils import FNN\n",
    "target_pinn = FNN.from_parameters(weights, biases, remove_batch_dim=True)"
   ]
  },
  {
   "cell_type": "markdown",
   "id": "d357e40d",
   "metadata": {},
   "source": [
    "Now you can do operations like saving and loading the state-dict:"
   ]
  },
  {
   "cell_type": "code",
   "execution_count": null,
   "id": "09dfba90",
   "metadata": {},
   "outputs": [],
   "source": [
    "torch.save(target_pinn.state_dict(), 'generated_pinn.pth')"
   ]
  },
  {
   "cell_type": "markdown",
   "id": "a7f30277",
   "metadata": {},
   "source": [
    "## Query generated target network"
   ]
  },
  {
   "cell_type": "code",
   "execution_count": null,
   "id": "2c74a3ea",
   "metadata": {},
   "outputs": [],
   "source": [
    "# generate a grid of 2D collocation points on the domain [-1, 1]^2\n",
    "x_grid, y_grid = np.meshgrid(\n",
    "    np.linspace(-1,  1, 224),\n",
    "    np.linspace( 1, -1, 224),\n",
    ")\n",
    "x = to_tensor(x_grid, requires_grad=True).reshape(-1, 1).to(device)\n",
    "y = to_tensor(y_grid, requires_grad=True).reshape(-1, 1).to(device)\n",
    "xy = torch.cat([x, y], dim=-1)"
   ]
  },
  {
   "cell_type": "code",
   "execution_count": null,
   "id": "dfeeb393",
   "metadata": {},
   "outputs": [],
   "source": [
    "# predict PDE solutions at collocation points\n",
    "u_pred = target_pinn(xy.unsqueeze(0))[0]\n",
    "u_pred_grid = u_pred.detach().cpu().numpy().reshape(224, 224)"
   ]
  },
  {
   "cell_type": "code",
   "execution_count": null,
   "id": "17f6cce2",
   "metadata": {},
   "outputs": [],
   "source": [
    "# plot against reference solution\n",
    "plot_grids([\n",
    "    u_pred_grid,\n",
    "    reference_solution,\n",
    "    u_pred_grid - reference_solution,\n",
    "    ], titles=['Predicted solution', 'Reference solution', 'Difference'])"
   ]
  },
  {
   "cell_type": "markdown",
   "id": "49a81199",
   "metadata": {},
   "source": [
    "To evaluate the residual, we need to compute the derivatives of the predicted values in `u_pred` w.r.t. the inputs `x` and `y`. This can be done with the pytorch autograd function. We provide the `compute_derivatives` method for convenience:"
   ]
  },
  {
   "cell_type": "code",
   "execution_count": null,
   "id": "d4c4729a",
   "metadata": {},
   "outputs": [],
   "source": [
    "pred_derivs = compute_derivatives(\n",
    "    in_var_map={'x': x, 'y': y},\n",
    "    out_var_map={'u': u_pred},\n",
    "    derivatives=ALL_DERIVATIVES\n",
    ")\n",
    "print(pred_derivs.keys())"
   ]
  },
  {
   "cell_type": "markdown",
   "id": "71145fc9",
   "metadata": {},
   "source": [
    "We provide a convenince method `compile_diff_operator` taking the operator string and converting it into a callable function, with the necessary derivatives as input:"
   ]
  },
  {
   "cell_type": "code",
   "execution_count": null,
   "id": "49a19ba9",
   "metadata": {},
   "outputs": [],
   "source": [
    "diff_op = compile_diff_operator(diff_operator)\n",
    "f_pred = diff_op(pred_derivs)\n",
    "f_pred_grid = f_pred.detach().cpu().numpy().reshape(224, 224)"
   ]
  },
  {
   "cell_type": "code",
   "execution_count": null,
   "id": "ef7468a0",
   "metadata": {},
   "outputs": [],
   "source": [
    "# plot predicted source function and residual\n",
    "plot_grids([\n",
    "    f_pred_grid,\n",
    "    source_function,\n",
    "    f_pred_grid - source_function,\n",
    "    ], titles=['Predicted source fn', 'True source fn', 'Difference'])"
   ]
  },
  {
   "cell_type": "code",
   "execution_count": null,
   "id": "daaa70bc",
   "metadata": {},
   "outputs": [],
   "source": []
  }
 ],
 "metadata": {
  "kernelspec": {
   "display_name": "hypino",
   "language": "python",
   "name": "python3"
  },
  "language_info": {
   "codemirror_mode": {
    "name": "ipython",
    "version": 3
   },
   "file_extension": ".py",
   "mimetype": "text/x-python",
   "name": "python",
   "nbconvert_exporter": "python",
   "pygments_lexer": "ipython3",
   "version": "3.12.1"
  }
 },
 "nbformat": 4,
 "nbformat_minor": 5
}
